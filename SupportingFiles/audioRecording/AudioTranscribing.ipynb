{
 "cells": [
  {
   "cell_type": "code",
   "execution_count": 1,
   "metadata": {},
   "outputs": [
    {
     "name": "stderr",
     "output_type": "stream",
     "text": [
      "C:\\Users\\GOWRI\\AppData\\Local\\conda\\conda\\envs\\Gowri_python3\\lib\\site-packages\\gensim\\utils.py:1209: UserWarning: detected Windows; aliasing chunkize to chunkize_serial\n",
      "  warnings.warn(\"detected Windows; aliasing chunkize to chunkize_serial\")\n"
     ]
    }
   ],
   "source": [
    "from gensim.summarization import summarize"
   ]
  },
  {
   "cell_type": "code",
   "execution_count": 2,
   "metadata": {},
   "outputs": [],
   "source": [
    "import speech_recognition as sr"
   ]
  },
  {
   "cell_type": "code",
   "execution_count": 3,
   "metadata": {},
   "outputs": [],
   "source": [
    "AUDIO_FILE = (\"harvard.wav\") \n",
    "r = sr.Recognizer() "
   ]
  },
  {
   "cell_type": "code",
   "execution_count": 6,
   "metadata": {},
   "outputs": [
    {
     "name": "stdout",
     "output_type": "stream",
     "text": [
      "The audio file contains: the stale smell of old beer lingers it takes heat to bring out the odor a cold dip restores health and zest a salt pickle taste fine with ham tacos al Pastore are my favorite a zestful food is be hot cross bun\n",
      "*******\n",
      "Morpheus awakens Neo to the real world, a ravaged wasteland where most of humanity have been captured by a race of machines that live off of the humans' body heat and electrochemical energy and who imprison their minds within an artificial reality known as the Matrix.\n"
     ]
    }
   ],
   "source": [
    "with sr.AudioFile(AUDIO_FILE) as source: \n",
    "    #reads the audio file. Here we use record instead of \n",
    "    #listen \n",
    "    audio = r.record(source)   \n",
    "  \n",
    "    try: \n",
    "        p = r.recognize_google(audio)\n",
    "        print(\"The audio file contains: \" + p)\n",
    "        text = \"Thomas A. Anderson is a man living two lives. By day he is an \" + \\\n",
    "        \"average computer programmer and by night a hacker known as \" + \\\n",
    "        \"Neo. Neo has always questioned his reality, but the truth is \" + \\\n",
    "        \"far beyond his imagination. Neo finds himself targeted by the \" + \\\n",
    "        \"police when he is contacted by Morpheus, a legendary computer \" + \\\n",
    "        \"hacker branded a terrorist by the government. Morpheus awakens \" + \\\n",
    "        \"Neo to the real world, a ravaged wasteland where most of \" + \\\n",
    "        \"humanity have been captured by a race of machines that live \" + \\\n",
    "        \"off of the humans' body heat and electrochemical energy and \" + \\\n",
    "        \"who imprison their minds within an artificial reality known as \" + \\\n",
    "        \"the Matrix. As a rebel against the machines, Neo must return to \" + \\\n",
    "        \"the Matrix and confront the agents: super-powerful computer \" + \\\n",
    "        \"programs devoted to snuffing out Neo and the entire human \" + \\\n",
    "        \"rebellion. \"\n",
    "        p = p+text\n",
    "        print(\"*******\")\n",
    "        print(summarize(p))\n",
    "\n",
    "    except sr.UnknownValueError: \n",
    "        print(\"Google Speech Recognition could not understand audio\") \n",
    "  \n",
    "    except sr.RequestError as e: \n",
    "        print(\"Could not request results from Google Speech Recognition service; {0}\".format(e)) "
   ]
  },
  {
   "cell_type": "code",
   "execution_count": null,
   "metadata": {},
   "outputs": [],
   "source": []
  }
 ],
 "metadata": {
  "kernelspec": {
   "display_name": "Python 3",
   "language": "python",
   "name": "python3"
  },
  "language_info": {
   "codemirror_mode": {
    "name": "ipython",
    "version": 3
   },
   "file_extension": ".py",
   "mimetype": "text/x-python",
   "name": "python",
   "nbconvert_exporter": "python",
   "pygments_lexer": "ipython3",
   "version": "3.6.6"
  }
 },
 "nbformat": 4,
 "nbformat_minor": 2
}
