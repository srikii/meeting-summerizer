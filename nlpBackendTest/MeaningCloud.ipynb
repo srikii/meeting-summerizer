{
 "cells": [
  {
   "cell_type": "code",
   "execution_count": 1,
   "metadata": {},
   "outputs": [],
   "source": [
    "import requests\n",
    "url = \"https://api.meaningcloud.com/summarization-1.0\""
   ]
  },
  {
   "cell_type": "code",
   "execution_count": 2,
   "metadata": {},
   "outputs": [],
   "source": [
    "YOUR_KEY_VALUE = \"d6410af793ce76a39f99d59a90e47f02\"\n",
    "YOUR_SENTENCES_VALUE = 2\n",
    "YOUR_URL_VALUE = \"https://stackoverflow.com/questions/41959043/how-to-identify-multiple-speakers-and-their-text-from-an-audio-input/41985285\"\n",
    "YOUR_DOC_VALUE=\"\"\n",
    "YOUR_TXT_VALUE = \"I am using Microsoft's cognitive services. I have an audio input and need to identify multiple speakers and their individual text.As per my understanding, audio file into pieces.\""
   ]
  },
  {
   "cell_type": "code",
   "execution_count": 3,
   "metadata": {},
   "outputs": [
    {
     "name": "stdout",
     "output_type": "stream",
     "text": [
      "{\"status\":{\"code\":\"100\",\"msg\":\"Operation denied\",\"credits\":\"0\"}}\n"
     ]
    }
   ],
   "source": [
    "#payload = \"key=YOUR_KEY_VALUE&txt=YOUR_TXT_VALUE&txt=YOUR_TXT_VALUE&sentences=YOUR_SENTENCES_VALUE\"\n",
    "payload = \"key=YOUR_KEY_VALUE&txt=YOUR_TXT_VALUE&url=YOUR_URL_VALUE&doc=YOUR_DOC_VALUE&sentences=YOUR_SENTENCES_VALUE\"\n",
    "headers = {'content-type': 'application/x-www-form-urlencoded'}\n",
    "\n",
    "response = requests.request(\"POST\", url, data=payload, headers=headers)\n",
    "\n",
    "print(response.text)"
   ]
  },
  {
   "cell_type": "code",
   "execution_count": null,
   "metadata": {},
   "outputs": [],
   "source": []
  }
 ],
 "metadata": {
  "kernelspec": {
   "display_name": "Python 3",
   "language": "python",
   "name": "python3"
  },
  "language_info": {
   "codemirror_mode": {
    "name": "ipython",
    "version": 3
   },
   "file_extension": ".py",
   "mimetype": "text/x-python",
   "name": "python",
   "nbconvert_exporter": "python",
   "pygments_lexer": "ipython3",
   "version": "3.6.6"
  }
 },
 "nbformat": 4,
 "nbformat_minor": 2
}
